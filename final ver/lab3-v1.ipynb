{
 "cells": [
  {
   "cell_type": "code",
   "execution_count": 169,
   "metadata": {},
   "outputs": [],
   "source": [
    "class Vehicle:\n",
    "    def __init__(self, name, speed):\n",
    "        self.name = name\n",
    "        self.speed = speed\n",
    "    def move(self, distance):\n",
    "        return 0"
   ]
  },
  {
   "cell_type": "code",
   "execution_count": 170,
   "metadata": {},
   "outputs": [],
   "source": [
    "class Land(Vehicle): #Land inherits from Vehicle \n",
    "    def __init__(self, name, speed, interval, dur): #Moving time and Resting time\n",
    "        super().__init__(name, speed) #super() in Single Inheritance\n",
    "        self.interval = interval\n",
    "        self.dur = dur\n",
    "    def move(self, dist1): #override\n",
    "        if (self.speed > 0):\n",
    "            time = (dist1 / self.speed)\n",
    "            round1 = int(time // self.interval)  # How many times rested\n",
    "            return time + sum(self.dur[:round1]) + (round1 - len(self.dur)) * (round1 >= len(self.dur)) * self.dur[-1]\n",
    "        else:\n",
    "            return float('inf')\n",
    "        #self.speed * self.interval # Covered Distance\n",
    "    def __repr__(self):\n",
    "        return \"Land({})\".format(self.name)"
   ]
  },
  {
   "cell_type": "code",
   "execution_count": 171,
   "metadata": {},
   "outputs": [],
   "source": [
    "class Air(Vehicle): #Air inherits from Vehicle \n",
    "    def __init__(self, name, speed, redu): # redu = [(0, 1000), (3, 5000), ...] or [(6, 0)] or [(1, 1000, 0)]\n",
    "        super().__init__(name, speed) #super() in Single Inheritance\n",
    "        self.redu = redu \n",
    "    def move(self, dist): #override\n",
    "        if(self.speed > 0):\n",
    "            if len(self.redu) == 1: # If every 1000 m has 1% reduction or every distance has 6% reduction\n",
    "                if self.redu[0][1] == 0: # Every distance has 6%\n",
    "                    required = dist * (1 - self.redu[0][0] / 100)\n",
    "                else: # 1000m has 1%\n",
    "                    required = (dist // self.redu[0][1]) * (1 - self.redu[0][0] / 100) * self.redu[0][1] + dist % self.redu[0][1]\n",
    "            else:\n",
    "                for i in self.redu: # Finding the interval\n",
    "                    if dist <= i[1]:\n",
    "                        required = dist * (1 - i[0] / 100) \n",
    "                        break\n",
    "                else: # more than last one.\n",
    "                    required = dist * (1 - self.redu[-1][0] / 100)\n",
    "            return required / self.speed\n",
    "        else:\n",
    "            return float('inf')\n",
    "    def __repr__(self):\n",
    "        return \"Air({})\".format(self.name)"
   ]
  },
  {
   "cell_type": "code",
   "execution_count": 172,
   "metadata": {},
   "outputs": [],
   "source": [
    "class Race(Air, Land):\n",
    "    def __init__(self, ty): # type of Race (Land, Air, 0) 0 - Mixed | Distance \n",
    "        self.ty = ty\n",
    "        self.trans = [] # participater\n",
    "    def add_transport(self, trans):\n",
    "        if self.ty == 0 or self.ty == type(trans):\n",
    "            self.trans.append(trans)\n",
    "        else:\n",
    "            print(\"Wrong race type\")\n",
    "    def winner(self, dist):\n",
    "        if dist <= 0:\n",
    "            return \"error\"\n",
    "        else:\n",
    "            return sorted([(i, i.move(dist)) for i in self.trans if i.move(dist) != float('inf')], key = lambda x: x[1])\n",
    "    def __repr__(self):\n",
    "        return \"Race({})\".format(self.trans)"
   ]
  },
  {
   "cell_type": "code",
   "execution_count": 173,
   "metadata": {},
   "outputs": [],
   "source": [
    "#Create Vehicles\n",
    "camel1 = Land('bactrian_camel', 10, 30, [5,8])\n",
    "camel2 = Land('fast_camel', 40, 10, [5, 6.5, 8])\n",
    "centaur = Land('centaur', 15, 8, [2])\n",
    "boot = Land('boot', 6, 60, [10, 5])\n",
    "carpet = Air('carpet', 10, [(0, 1000), (3, 5000), (10, 10000), (5, 10000)])\n",
    "stupa = Air('stupa', 8, [(6, 0)])\n",
    "broom = Air('broom', 20, [(1, 1000, 0)])"
   ]
  },
  {
   "cell_type": "code",
   "execution_count": 174,
   "metadata": {},
   "outputs": [
    {
     "data": {
      "text/plain": [
       "Land(bactrian_camel)"
      ]
     },
     "execution_count": 174,
     "metadata": {},
     "output_type": "execute_result"
    }
   ],
   "source": [
    "camel1"
   ]
  },
  {
   "cell_type": "code",
   "execution_count": 175,
   "metadata": {},
   "outputs": [
    {
     "data": {
      "text/plain": [
       "Air(broom)"
      ]
     },
     "execution_count": 175,
     "metadata": {},
     "output_type": "execute_result"
    }
   ],
   "source": [
    "broom"
   ]
  },
  {
   "cell_type": "code",
   "execution_count": 176,
   "metadata": {},
   "outputs": [],
   "source": [
    "#Create races\n",
    "landrace = Race(Land)\n",
    "airrace = Race(Air)\n",
    "mixedrace = Race(0)"
   ]
  },
  {
   "cell_type": "code",
   "execution_count": 177,
   "metadata": {},
   "outputs": [],
   "source": [
    "# Add transports to races\n",
    "landrace.add_transport(camel1)\n",
    "landrace.add_transport(camel2)\n",
    "landrace.add_transport(centaur)\n",
    "landrace.add_transport(boot)\n",
    "\n",
    "airrace.add_transport(carpet)\n",
    "airrace.add_transport(stupa)\n",
    "airrace.add_transport(broom)\n",
    "\n",
    "mixedrace.add_transport(camel1)\n",
    "mixedrace.add_transport(camel2)\n",
    "mixedrace.add_transport(centaur)\n",
    "mixedrace.add_transport(boot)\n",
    "mixedrace.add_transport(carpet)\n",
    "mixedrace.add_transport(stupa)\n",
    "mixedrace.add_transport(broom)"
   ]
  },
  {
   "cell_type": "code",
   "execution_count": 178,
   "metadata": {
    "scrolled": true
   },
   "outputs": [
    {
     "data": {
      "text/plain": [
       "Race([Land(bactrian_camel), Land(fast_camel), Land(centaur), Land(boot)])"
      ]
     },
     "execution_count": 178,
     "metadata": {},
     "output_type": "execute_result"
    }
   ],
   "source": [
    "#Show transports in race\n",
    "landrace"
   ]
  },
  {
   "cell_type": "code",
   "execution_count": 179,
   "metadata": {
    "scrolled": true
   },
   "outputs": [
    {
     "data": {
      "text/plain": [
       "Race([Land(bactrian_camel), Land(fast_camel), Land(centaur), Land(boot), Air(carpet), Air(stupa), Air(broom)])"
      ]
     },
     "execution_count": 179,
     "metadata": {},
     "output_type": "execute_result"
    }
   ],
   "source": [
    "#Show transports in race\n",
    "mixedrace"
   ]
  },
  {
   "cell_type": "code",
   "execution_count": 180,
   "metadata": {},
   "outputs": [
    {
     "data": {
      "text/plain": [
       "Race([Air(carpet), Air(stupa), Air(broom)])"
      ]
     },
     "execution_count": 180,
     "metadata": {},
     "output_type": "execute_result"
    }
   ],
   "source": [
    "#Show transports in race\n",
    "airrace"
   ]
  },
  {
   "cell_type": "code",
   "execution_count": 181,
   "metadata": {},
   "outputs": [
    {
     "name": "stdout",
     "output_type": "stream",
     "text": [
      "Wrong race type\n"
     ]
    }
   ],
   "source": [
    "# Show land type can't enter in air race\n",
    "airrace.add_transport(camel1)"
   ]
  },
  {
   "cell_type": "code",
   "execution_count": 182,
   "metadata": {},
   "outputs": [
    {
     "name": "stdout",
     "output_type": "stream",
     "text": [
      "Wrong race type\n"
     ]
    }
   ],
   "source": [
    "# Vice versa\n",
    "landrace.add_transport(broom)"
   ]
  },
  {
   "cell_type": "code",
   "execution_count": 183,
   "metadata": {},
   "outputs": [
    {
     "data": {
      "text/plain": [
       "121.0"
      ]
     },
     "execution_count": 183,
     "metadata": {},
     "output_type": "execute_result"
    }
   ],
   "source": [
    "#Time of bactrian_camel\n",
    "camel1.move(1000)"
   ]
  },
  {
   "cell_type": "code",
   "execution_count": 184,
   "metadata": {},
   "outputs": [
    {
     "data": {
      "text/plain": [
       "[(Air(broom), 49.5), (Air(carpet), 100.0), (Air(stupa), 117.5)]"
      ]
     },
     "execution_count": 184,
     "metadata": {},
     "output_type": "execute_result"
    }
   ],
   "source": [
    "# name, time-> sorted by time in asc\n",
    "airrace.winner(1000) "
   ]
  },
  {
   "cell_type": "code",
   "execution_count": 185,
   "metadata": {
    "scrolled": true
   },
   "outputs": [
    {
     "data": {
      "text/plain": [
       "[(Land(fast_camel), 36.5),\n",
       " (Land(centaur), 82.66666666666667),\n",
       " (Land(bactrian_camel), 121.0),\n",
       " (Land(boot), 181.66666666666666)]"
      ]
     },
     "execution_count": 185,
     "metadata": {},
     "output_type": "execute_result"
    }
   ],
   "source": [
    "# name, time-> sorted by time in asc\n",
    "landrace.winner(1000)"
   ]
  },
  {
   "cell_type": "code",
   "execution_count": 186,
   "metadata": {},
   "outputs": [
    {
     "data": {
      "text/plain": [
       "[(Land(fast_camel), 36.5),\n",
       " (Air(broom), 49.5),\n",
       " (Land(centaur), 82.66666666666667),\n",
       " (Air(carpet), 100.0),\n",
       " (Air(stupa), 117.5),\n",
       " (Land(bactrian_camel), 121.0),\n",
       " (Land(boot), 181.66666666666666)]"
      ]
     },
     "execution_count": 186,
     "metadata": {},
     "output_type": "execute_result"
    }
   ],
   "source": [
    "#name, time-> sorted by time in asc\n",
    "mixedrace.winner(1000)"
   ]
  },
  {
   "cell_type": "code",
   "execution_count": 187,
   "metadata": {},
   "outputs": [],
   "source": [
    "#Lets create new vehicle and start the race\n",
    "wings = Air('wings', 200, [(3, 1000, 0)])\n",
    "airrace.add_transport(wings)\n",
    "mixedrace.add_transport(wings)"
   ]
  },
  {
   "cell_type": "code",
   "execution_count": 188,
   "metadata": {
    "scrolled": false
   },
   "outputs": [
    {
     "data": {
      "text/plain": [
       "[(Air(wings), 4.85),\n",
       " (Air(broom), 49.5),\n",
       " (Air(carpet), 100.0),\n",
       " (Air(stupa), 117.5)]"
      ]
     },
     "execution_count": 188,
     "metadata": {},
     "output_type": "execute_result"
    }
   ],
   "source": [
    "#New winner in air race\n",
    "airrace.winner(1000)"
   ]
  },
  {
   "cell_type": "code",
   "execution_count": 189,
   "metadata": {},
   "outputs": [
    {
     "name": "stdout",
     "output_type": "stream",
     "text": [
      "Wrong race type\n"
     ]
    }
   ],
   "source": [
    "#wings can't participate in land \n",
    "landrace.add_transport(wings)"
   ]
  },
  {
   "cell_type": "code",
   "execution_count": 190,
   "metadata": {
    "scrolled": true
   },
   "outputs": [
    {
     "data": {
      "text/plain": [
       "[(Air(wings), 4.85),\n",
       " (Land(fast_camel), 36.5),\n",
       " (Air(broom), 49.5),\n",
       " (Land(centaur), 82.66666666666667),\n",
       " (Air(carpet), 100.0),\n",
       " (Air(stupa), 117.5),\n",
       " (Land(bactrian_camel), 121.0),\n",
       " (Land(boot), 181.66666666666666)]"
      ]
     },
     "execution_count": 190,
     "metadata": {},
     "output_type": "execute_result"
    }
   ],
   "source": [
    "#New winner in mixed race\n",
    "mixedrace.winner(1000)"
   ]
  },
  {
   "cell_type": "code",
   "execution_count": 191,
   "metadata": {},
   "outputs": [
    {
     "data": {
      "text/plain": [
       "inf"
      ]
     },
     "execution_count": 191,
     "metadata": {},
     "output_type": "execute_result"
    }
   ],
   "source": [
    "#Speed can't be negative\n",
    "fish = Air('fly', -5, [(3, 1000, 0)])\n",
    "airrace.add_transport(fish)\n",
    "fish.move(1000)"
   ]
  },
  {
   "cell_type": "code",
   "execution_count": 192,
   "metadata": {},
   "outputs": [
    {
     "data": {
      "text/plain": [
       "[(Air(wings), 4.85),\n",
       " (Air(broom), 49.5),\n",
       " (Air(carpet), 100.0),\n",
       " (Air(stupa), 117.5)]"
      ]
     },
     "execution_count": 192,
     "metadata": {},
     "output_type": "execute_result"
    }
   ],
   "source": [
    "airrace.winner(1000)"
   ]
  },
  {
   "cell_type": "markdown",
   "metadata": {},
   "source": []
  }
 ],
 "metadata": {
  "kernelspec": {
   "display_name": "Python 3",
   "language": "python",
   "name": "python3"
  },
  "language_info": {
   "codemirror_mode": {
    "name": "ipython",
    "version": 3
   },
   "file_extension": ".py",
   "mimetype": "text/x-python",
   "name": "python",
   "nbconvert_exporter": "python",
   "pygments_lexer": "ipython3",
   "version": "3.7.5rc1"
  }
 },
 "nbformat": 4,
 "nbformat_minor": 4
}
