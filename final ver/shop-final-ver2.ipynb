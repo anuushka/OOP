{
 "cells": [
  {
   "cell_type": "markdown",
   "metadata": {},
   "source": [
    "### Problems"
   ]
  },
  {
   "cell_type": "markdown",
   "metadata": {},
   "source": [
    "## id random; shop Manager:"
   ]
  },
  {
   "cell_type": "code",
   "execution_count": 3,
   "metadata": {},
   "outputs": [],
   "source": [
    "import random"
   ]
  },
  {
   "cell_type": "code",
   "execution_count": 168,
   "metadata": {},
   "outputs": [],
   "source": [
    "class Manager:                                    # Self for Manager, self1 for Shop, self2 for Product\n",
    "    def __init__(self):\n",
    "        self.shops = {}\n",
    "        self.products = {}\n",
    "        self.s_unused_ids = set([random.randint(1, 10000) for _ in range(1000)]) # For shop\n",
    "        self.p_unused_ids = set([random.randint(1, 10000) for _ in range(1000)]) # For product\n",
    "        \n",
    "    class Shop:\n",
    "        def __init__(self1, id1, name, address):\n",
    "            self1.id1 = id1\n",
    "            self1.name = name\n",
    "            self1.address = address\n",
    "            self1.items = {}\n",
    "        \n",
    "        def add_product(self1, product, cnt, price):\n",
    "            self1.items[product.id1] = [product, cnt, price]\n",
    "            \n",
    "        def change_cnt(self1, product, new_cnt):\n",
    "            self1.items[product.id1][1] = new_cnt\n",
    "            \n",
    "        def change_price(self1, product, new_pr):\n",
    "            self1.items[product.id1][2] = new_pr\n",
    "        \n",
    "        def __repr__(self1):\n",
    "            return \"Shop({}, {}, {})\".format(self1.id1, self1.name, self1.address)\n",
    "        \n",
    "    class Product:\n",
    "        def __init__(self2, name, id1):\n",
    "            self2.id1 = id1\n",
    "            self2.name = name\n",
    "        def __repr__(self2):\n",
    "            return \"Product({})\".format(self2.name)\n",
    "    \n",
    "    def create_product(self, name):\n",
    "        id_p = self.p_unused_ids.pop()\n",
    "        self.products[id_p] = self.Product(name, id_p)\n",
    "    \n",
    "    def create_shop(self, name, address):\n",
    "        id_s = self.s_unused_ids.pop()\n",
    "        self.shops[id_s] = self.Shop(id_s, name, address)\n",
    "    ###\n",
    "    def min_shop(self, id1):\n",
    "        shop = min(self.shops.values(), key = lambda x: x.items[id1][2])\n",
    "        return shop, shop.items[id1]\n",
    "    \n",
    "    def find_shop(self, shop_id):\n",
    "        for i in self.shops:\n",
    "            if self.shops[i].id1 == shop_id:\n",
    "                return self.shops[i]\n",
    "    \n",
    "    def buying_capacity(self, Shop_id, Fund):\n",
    "        Shop = self.find_shop(Shop_id)\n",
    "        for id1 in Shop.items:\n",
    "            name, cnt, price = Shop.items[id1]\n",
    "            if cnt > 0 and price <= Fund:\n",
    "                print(name, min(cnt, Fund // price))\n",
    "    \n",
    "    def order(self, Shop_id, Order): # Order = [(id, cnt)]\n",
    "        Shop_ = self.find_shop(Shop_id)\n",
    "        ttl = 0\n",
    "        for id1, cnt in Order:\n",
    "            if Shop_.items[id1][1] >= cnt:\n",
    "                print(Shop_.items[id1])\n",
    "                Shop_.change_cnt(Shop_.items[id1][0], Shop_.items[id1][1] - cnt)\n",
    "                ttl += cnt * Shop_.items[id1][2]\n",
    "            else:\n",
    "                print(\"LOSER\")\n",
    "                return float('inf')\n",
    "\n",
    "        else:\n",
    "            print(\"available\")\n",
    "            return ttl\n",
    "    \n",
    "    def min_pur(self, Order):\n",
    "        return min(self.shops.values(), key = lambda x: self.order(x.id1, Order))\n",
    "\n",
    "    def print_(self):\n",
    "        print(self.shops, self.products)"
   ]
  },
  {
   "cell_type": "code",
   "execution_count": 169,
   "metadata": {},
   "outputs": [],
   "source": [
    "Test = Manager()"
   ]
  },
  {
   "cell_type": "code",
   "execution_count": 170,
   "metadata": {},
   "outputs": [],
   "source": [
    "Test.create_shop(\"AJ\", \"Sansar\")\n",
    "Test.create_shop(\"UG\", \"Khoroolol\")\n",
    "Test.create_shop(\"MA\", \"Officer\")\n",
    "\n",
    "Test.create_product('Wine')\n",
    "Test.create_product('Ro')\n",
    "Test.create_product('W1ne')\n",
    "Test.create_product('Wi2ne')\n",
    "Test.create_product('Win3e')\n",
    "Test.create_product('Wine4')"
   ]
  },
  {
   "cell_type": "code",
   "execution_count": 171,
   "metadata": {},
   "outputs": [],
   "source": [
    "for i in Test.shops:\n",
    "    for j in Test.products:\n",
    "        Test.shops[i].add_product(Test.products[j], random.randint(1, 50), random.randint(500, 3000))\n"
   ]
  },
  {
   "cell_type": "code",
   "execution_count": 172,
   "metadata": {},
   "outputs": [
    {
     "name": "stdout",
     "output_type": "stream",
     "text": [
      "{8192: Shop(8192, AJ, Sansar), 1: Shop(1, UG, Khoroolol), 4098: Shop(4098, MA, Officer)} {4096: Product(Wine), 3: Product(Ro), 2055: Product(W1ne), 6154: Product(Wi2ne), 4106: Product(Win3e), 8206: Product(Wine4)}\n"
     ]
    }
   ],
   "source": [
    "Test.print_()"
   ]
  },
  {
   "cell_type": "code",
   "execution_count": 173,
   "metadata": {},
   "outputs": [
    {
     "data": {
      "text/plain": [
       "Shop(8192, AJ, Sansar)"
      ]
     },
     "execution_count": 173,
     "metadata": {},
     "output_type": "execute_result"
    }
   ],
   "source": [
    "Test.find_shop(8192)"
   ]
  },
  {
   "cell_type": "code",
   "execution_count": 174,
   "metadata": {},
   "outputs": [
    {
     "data": {
      "text/plain": [
       "{4096: [Product(Wine), 48, 1958],\n",
       " 3: [Product(Ro), 17, 2850],\n",
       " 2055: [Product(W1ne), 2, 2239],\n",
       " 6154: [Product(Wi2ne), 3, 2377],\n",
       " 4106: [Product(Win3e), 23, 2412],\n",
       " 8206: [Product(Wine4), 14, 2642]}"
      ]
     },
     "execution_count": 174,
     "metadata": {},
     "output_type": "execute_result"
    }
   ],
   "source": [
    "Test.shops[8192].items"
   ]
  },
  {
   "cell_type": "code",
   "execution_count": 175,
   "metadata": {},
   "outputs": [
    {
     "data": {
      "text/plain": [
       "(Shop(4098, MA, Officer), [Product(Wine), 24, 1353])"
      ]
     },
     "execution_count": 175,
     "metadata": {},
     "output_type": "execute_result"
    }
   ],
   "source": [
    "Test.min_shop(4096)"
   ]
  },
  {
   "cell_type": "code",
   "execution_count": 176,
   "metadata": {},
   "outputs": [
    {
     "name": "stdout",
     "output_type": "stream",
     "text": [
      "Product(Wine) 7\n",
      "Product(Ro) 3\n",
      "Product(W1ne) 3\n",
      "Product(Wi2ne) 5\n",
      "Product(Win3e) 3\n",
      "Product(Wine4) 5\n"
     ]
    }
   ],
   "source": [
    "Test.buying_capacity(4098, 10000)"
   ]
  },
  {
   "cell_type": "code",
   "execution_count": 177,
   "metadata": {},
   "outputs": [],
   "source": [
    "Order = [(6154, 5), (4106, 15)]"
   ]
  },
  {
   "cell_type": "code",
   "execution_count": 179,
   "metadata": {},
   "outputs": [
    {
     "name": "stdout",
     "output_type": "stream",
     "text": [
      "[Product(Wi2ne), 14, 1852]\n",
      "[Product(Win3e), 40, 2633]\n",
      "available\n"
     ]
    },
    {
     "data": {
      "text/plain": [
       "48755"
      ]
     },
     "execution_count": 179,
     "metadata": {},
     "output_type": "execute_result"
    }
   ],
   "source": [
    "Test.order(4098, Order)"
   ]
  },
  {
   "cell_type": "code",
   "execution_count": 180,
   "metadata": {
    "scrolled": true
   },
   "outputs": [
    {
     "name": "stdout",
     "output_type": "stream",
     "text": [
      "LOSER\n",
      "[Product(Wi2ne), 23, 1865]\n",
      "LOSER\n",
      "[Product(Wi2ne), 9, 1852]\n",
      "[Product(Win3e), 25, 2633]\n",
      "available\n"
     ]
    },
    {
     "data": {
      "text/plain": [
       "Shop(4098, MA, Officer)"
      ]
     },
     "execution_count": 180,
     "metadata": {},
     "output_type": "execute_result"
    }
   ],
   "source": [
    "Test.min_pur(Order)"
   ]
  },
  {
   "cell_type": "code",
   "execution_count": 181,
   "metadata": {},
   "outputs": [
    {
     "name": "stdout",
     "output_type": "stream",
     "text": [
      "The Zen of Python, by Tim Peters\n",
      "\n",
      "Beautiful is better than ugly.\n",
      "Explicit is better than implicit.\n",
      "Simple is better than complex.\n",
      "Complex is better than complicated.\n",
      "Flat is better than nested.\n",
      "Sparse is better than dense.\n",
      "Readability counts.\n",
      "Special cases aren't special enough to break the rules.\n",
      "Although practicality beats purity.\n",
      "Errors should never pass silently.\n",
      "Unless explicitly silenced.\n",
      "In the face of ambiguity, refuse the temptation to guess.\n",
      "There should be one-- and preferably only one --obvious way to do it.\n",
      "Although that way may not be obvious at first unless you're Dutch.\n",
      "Now is better than never.\n",
      "Although never is often better than *right* now.\n",
      "If the implementation is hard to explain, it's a bad idea.\n",
      "If the implementation is easy to explain, it may be a good idea.\n",
      "Namespaces are one honking great idea -- let's do more of those!\n"
     ]
    }
   ],
   "source": [
    "import this"
   ]
  }
 ],
 "metadata": {
  "kernelspec": {
   "display_name": "Python 3",
   "language": "python",
   "name": "python3"
  },
  "language_info": {
   "codemirror_mode": {
    "name": "ipython",
    "version": 3
   },
   "file_extension": ".py",
   "mimetype": "text/x-python",
   "name": "python",
   "nbconvert_exporter": "python",
   "pygments_lexer": "ipython3",
   "version": "3.8.5"
  }
 },
 "nbformat": 4,
 "nbformat_minor": 4
}
