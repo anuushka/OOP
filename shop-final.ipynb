{
 "cells": [
  {
   "cell_type": "code",
   "execution_count": 117,
   "metadata": {},
   "outputs": [],
   "source": [
    "import random"
   ]
  },
  {
   "cell_type": "code",
   "execution_count": 99,
   "metadata": {},
   "outputs": [],
   "source": [
    "class Product:\n",
    "    def __init__(self, id1, name):\n",
    "        self.id = id1\n",
    "        self.name = name\n",
    "        \n",
    "    def __repr__(self):\n",
    "        return \"Product({}, {})\".format(self.name, self.id)"
   ]
  },
  {
   "cell_type": "code",
   "execution_count": 100,
   "metadata": {},
   "outputs": [],
   "source": [
    "class Shop:\n",
    "    def __init__(self, id1, name, address):\n",
    "        self.id, self.name, self.address = id1, name, address\n",
    "        self.items = {}\n",
    "    \n",
    "    def add(self, id1, name, cnt, price):\n",
    "        item = Product(id1, name)\n",
    "        self.items[id1] = [Product(id1, name), cnt, price]\n",
    "    \n",
    "    def change_cnt(self, id1, new_cnt):\n",
    "        self.items[id1][1] = new_cnt\n",
    "    def change_price(self, id1, new_price):\n",
    "        self.items[id1][2] = new_price\n",
    "    \n",
    "    def __repr__(self):\n",
    "        return \"Shop({}, {})\".format(self.name, self.id)"
   ]
  },
  {
   "cell_type": "code",
   "execution_count": 101,
   "metadata": {},
   "outputs": [],
   "source": [
    "def find_shop(shop_id):\n",
    "    global Shops\n",
    "    for i in Shops:\n",
    "        if i.id == shop_id:\n",
    "            return i"
   ]
  },
  {
   "cell_type": "code",
   "execution_count": 102,
   "metadata": {},
   "outputs": [],
   "source": [
    "def min_shop(Shops, id1):\n",
    "    shop = min(Shops, key = lambda x: x.items[id1][2])\n",
    "    return shop, shop.items[id1]"
   ]
  },
  {
   "cell_type": "code",
   "execution_count": 103,
   "metadata": {},
   "outputs": [],
   "source": [
    "def buying_capacity(Shop_id, Fund):\n",
    "    Shop = find_shop(Shop_id)\n",
    "    for id1 in Shop.items:\n",
    "        name, cnt, price = Shop.items[id1]\n",
    "        if cnt > 0 and price <= Fund:\n",
    "            print(name, min(cnt, Fund // price))"
   ]
  },
  {
   "cell_type": "code",
   "execution_count": 104,
   "metadata": {},
   "outputs": [],
   "source": [
    "def order(Shop_id, Order): # Order = [(id, cnt)]\n",
    "    Shop = find_shop(Shop_id)\n",
    "    ttl = 0\n",
    "    for id1, cnt in Order:\n",
    "        if Shop.items[id1][1] >= cnt:\n",
    "            print(Shop.items[id1][0])\n",
    "            Shop.change_cnt(id1, Shop.items[id1][1] - cnt)\n",
    "            ttl += cnt * Shop.items[id1][2]\n",
    "        else:\n",
    "            print(\"LOSER\")\n",
    "            return float('inf')\n",
    "        \n",
    "    else:\n",
    "        print(\"available\")\n",
    "        return ttl"
   ]
  },
  {
   "cell_type": "code",
   "execution_count": 105,
   "metadata": {},
   "outputs": [],
   "source": [
    "def min_pur(Shops, Order):\n",
    "    #return min([order(Shop1.id, Order) for Shop1 in Shops])\n",
    "    return min(Shops, key = lambda x: order(x.id, Order))"
   ]
  },
  {
   "cell_type": "code",
   "execution_count": 106,
   "metadata": {},
   "outputs": [],
   "source": [
    "Potato = Product(1, 'Potato13')\n",
    "Sauce = Product(2, 'Sauce13')\n",
    "Carrot = Product(3, \"Carrot13\")\n",
    "Soup = Product(4, \"Soup13\")\n",
    "Knife = Product(5, \"Knife13\")\n",
    "Laptop = Product(6, 'Laptop13')\n",
    "Fork = Product(7, \"Fork13\")\n",
    "Sil_fork = Product(8, 'Sil_fork13')\n",
    "Pen = Product(9, 'Pen13')\n",
    "Axe = Product(10, \"Axe13\")\n",
    "Potato_UK = Product(11, \"Yellow_Potato13\")\n",
    "Items = [Potato, Sauce, Carrot, Soup, Knife, Laptop, Fork, Sil_fork, Pen, Axe, Potato_UK]"
   ]
  },
  {
   "cell_type": "code",
   "execution_count": 107,
   "metadata": {},
   "outputs": [],
   "source": [
    "AJ = Shop(123, \"AJ\", 'sansar')\n",
    "UG = Shop(345, \"UG\", 'khoroolol')\n",
    "MA = Shop(156, \"MA\", 'Officer')\n",
    "Shops = [AJ, UG, MA]"
   ]
  },
  {
   "cell_type": "code",
   "execution_count": 108,
   "metadata": {},
   "outputs": [],
   "source": [
    "for shop in Shops:\n",
    "    for item_ in Items:\n",
    "        shop.add(item_.id, item_.name, random.randint(1, 100), random.randint(300, 1000))"
   ]
  },
  {
   "cell_type": "code",
   "execution_count": 109,
   "metadata": {
    "scrolled": true
   },
   "outputs": [
    {
     "data": {
      "text/plain": [
       "{1: [Product(Potato13, 1), 24, 620],\n",
       " 2: [Product(Sauce13, 2), 89, 410],\n",
       " 3: [Product(Carrot13, 3), 61, 816],\n",
       " 4: [Product(Soup13, 4), 81, 630],\n",
       " 5: [Product(Knife13, 5), 38, 414],\n",
       " 6: [Product(Laptop13, 6), 26, 814],\n",
       " 7: [Product(Fork13, 7), 20, 809],\n",
       " 8: [Product(Sil_fork13, 8), 66, 575],\n",
       " 9: [Product(Pen13, 9), 62, 636],\n",
       " 10: [Product(Axe13, 10), 89, 993],\n",
       " 11: [Product(Yellow_Potato13, 11), 35, 753]}"
      ]
     },
     "execution_count": 109,
     "metadata": {},
     "output_type": "execute_result"
    }
   ],
   "source": [
    "AJ.items"
   ]
  },
  {
   "cell_type": "code",
   "execution_count": 110,
   "metadata": {},
   "outputs": [
    {
     "data": {
      "text/plain": [
       "{1: [Product(Potato13, 1), 20, 600],\n",
       " 2: [Product(Sauce13, 2), 89, 410],\n",
       " 3: [Product(Carrot13, 3), 61, 816],\n",
       " 4: [Product(Soup13, 4), 81, 630],\n",
       " 5: [Product(Knife13, 5), 38, 414],\n",
       " 6: [Product(Laptop13, 6), 26, 814],\n",
       " 7: [Product(Fork13, 7), 20, 809],\n",
       " 8: [Product(Sil_fork13, 8), 66, 575],\n",
       " 9: [Product(Pen13, 9), 62, 636],\n",
       " 10: [Product(Axe13, 10), 89, 993],\n",
       " 11: [Product(Yellow_Potato13, 11), 35, 753]}"
      ]
     },
     "execution_count": 110,
     "metadata": {},
     "output_type": "execute_result"
    }
   ],
   "source": [
    "AJ.change_price(1, 600)\n",
    "AJ.change_cnt(1, 20)\n",
    "AJ.items"
   ]
  },
  {
   "cell_type": "code",
   "execution_count": 111,
   "metadata": {},
   "outputs": [
    {
     "data": {
      "text/plain": [
       "(Shop(MA, 156), [Product(Carrot13, 3), 2, 311])"
      ]
     },
     "execution_count": 111,
     "metadata": {},
     "output_type": "execute_result"
    }
   ],
   "source": [
    "min_shop(Shops, 3)"
   ]
  },
  {
   "cell_type": "code",
   "execution_count": 112,
   "metadata": {
    "scrolled": true
   },
   "outputs": [
    {
     "name": "stdout",
     "output_type": "stream",
     "text": [
      "Product(Potato13, 1) 16\n",
      "Product(Sauce13, 2) 24\n",
      "Product(Carrot13, 3) 12\n",
      "Product(Soup13, 4) 15\n",
      "Product(Knife13, 5) 24\n",
      "Product(Laptop13, 6) 12\n",
      "Product(Fork13, 7) 12\n",
      "Product(Sil_fork13, 8) 17\n",
      "Product(Pen13, 9) 15\n",
      "Product(Axe13, 10) 10\n",
      "Product(Yellow_Potato13, 11) 13\n"
     ]
    }
   ],
   "source": [
    "buying_capacity(123, 10000)"
   ]
  },
  {
   "cell_type": "code",
   "execution_count": 113,
   "metadata": {},
   "outputs": [],
   "source": [
    "Order = [(1, 5), (2, 15)]"
   ]
  },
  {
   "cell_type": "code",
   "execution_count": 114,
   "metadata": {},
   "outputs": [
    {
     "name": "stdout",
     "output_type": "stream",
     "text": [
      "Product(Potato13, 1)\n",
      "Product(Sauce13, 2)\n",
      "available\n"
     ]
    },
    {
     "data": {
      "text/plain": [
       "9150"
      ]
     },
     "execution_count": 114,
     "metadata": {},
     "output_type": "execute_result"
    }
   ],
   "source": [
    "order(123, Order)"
   ]
  },
  {
   "cell_type": "code",
   "execution_count": 115,
   "metadata": {},
   "outputs": [
    {
     "name": "stdout",
     "output_type": "stream",
     "text": [
      "Product(Potato13, 1)\n",
      "Product(Sauce13, 2)\n",
      "available\n",
      "Product(Potato13, 1)\n",
      "Product(Sauce13, 2)\n",
      "available\n",
      "LOSER\n"
     ]
    },
    {
     "data": {
      "text/plain": [
       "Shop(AJ, 123)"
      ]
     },
     "execution_count": 115,
     "metadata": {},
     "output_type": "execute_result"
    }
   ],
   "source": [
    "min_pur(Shops, Order)"
   ]
  },
  {
   "cell_type": "code",
   "execution_count": 116,
   "metadata": {},
   "outputs": [
    {
     "data": {
      "text/plain": [
       "{1: [Product(Potato13, 1), 10, 600],\n",
       " 2: [Product(Sauce13, 2), 59, 410],\n",
       " 3: [Product(Carrot13, 3), 61, 816],\n",
       " 4: [Product(Soup13, 4), 81, 630],\n",
       " 5: [Product(Knife13, 5), 38, 414],\n",
       " 6: [Product(Laptop13, 6), 26, 814],\n",
       " 7: [Product(Fork13, 7), 20, 809],\n",
       " 8: [Product(Sil_fork13, 8), 66, 575],\n",
       " 9: [Product(Pen13, 9), 62, 636],\n",
       " 10: [Product(Axe13, 10), 89, 993],\n",
       " 11: [Product(Yellow_Potato13, 11), 35, 753]}"
      ]
     },
     "execution_count": 116,
     "metadata": {},
     "output_type": "execute_result"
    }
   ],
   "source": [
    "AJ.items"
   ]
  }
 ],
 "metadata": {
  "kernelspec": {
   "display_name": "Python 3",
   "language": "python",
   "name": "python3"
  },
  "language_info": {
   "codemirror_mode": {
    "name": "ipython",
    "version": 3
   },
   "file_extension": ".py",
   "mimetype": "text/x-python",
   "name": "python",
   "nbconvert_exporter": "python",
   "pygments_lexer": "ipython3",
   "version": "3.8.5"
  }
 },
 "nbformat": 4,
 "nbformat_minor": 4
}
