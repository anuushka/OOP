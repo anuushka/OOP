{
 "cells": [
  {
   "cell_type": "code",
   "execution_count": 18,
   "metadata": {},
   "outputs": [],
   "source": [
    "import random"
   ]
  },
  {
   "cell_type": "code",
   "execution_count": 19,
   "metadata": {},
   "outputs": [],
   "source": [
    "class Product:\n",
    "    def __init__(self, id1, name):\n",
    "        self.id1 = id1\n",
    "        self.name = name\n",
    "        \n",
    "    def __repr__(self):\n",
    "        return self.name"
   ]
  },
  {
   "cell_type": "code",
   "execution_count": 26,
   "metadata": {},
   "outputs": [],
   "source": [
    "class Shop:\n",
    "    def __init__(self, id1, name, address):\n",
    "        self.id1 = id1\n",
    "        self.name = name\n",
    "        self.addr = address\n",
    "        self.items = {}\n",
    "        \n",
    "    def add(self, id1, name, cnt, price):\n",
    "        item = Product(id1, name)\n",
    "        self.items[item] = [cnt, price]\n",
    "    \n",
    "    def change_price(self, item, New_price):\n",
    "        self.items[item][1] = New_price\n",
    "    \n",
    "    def change_cnt(self, item, new_cnt):\n",
    "        self.items[item][0] = new_cnt\n",
    "    \n",
    "    def __repr__(self):\n",
    "        return \"Shop: \" + self.name"
   ]
  },
  {
   "cell_type": "code",
   "execution_count": 22,
   "metadata": {},
   "outputs": [],
   "source": [
    "def min_price(Shops, item):\n",
    "    item = eval(item)\n",
    "    min_shop = min(Shops, key= lambda x: x.items[in1][1])\n",
    "    return min_shop.items[in1][1]"
   ]
  },
  {
   "cell_type": "code",
   "execution_count": 23,
   "metadata": {},
   "outputs": [],
   "source": [
    "AJ = Shop(123, \"AJ\", 'sansar')\n",
    "UG = Shop(345, \"UG\", 'khoroolol')\n",
    "MA = Shop(156, \"MA\", 'Officer')\n",
    "Shops = [AJ, UG, MA]"
   ]
  },
  {
   "cell_type": "code",
   "execution_count": 5,
   "metadata": {},
   "outputs": [
    {
     "data": {
      "text/plain": [
       "Shop: AJ"
      ]
     },
     "execution_count": 5,
     "metadata": {},
     "output_type": "execute_result"
    }
   ],
   "source": [
    "AJ"
   ]
  },
  {
   "cell_type": "code",
   "execution_count": 24,
   "metadata": {},
   "outputs": [],
   "source": [
    "Potato = Product(1, 'Potato13')\n",
    "Sauce = Product(2, 'Sauce13')\n",
    "Carrot = Product(3, \"Carrot13\")\n",
    "Soup = Product(4, \"Soup13\")\n",
    "Knife = Product(5, \"Knife13\")\n",
    "Laptop = Product(6, 'Laptop13')\n",
    "Fork = Product(7, \"Fork13\")\n",
    "Sil_fork = Product(8, 'Sil_fork13')\n",
    "Pen = Product(9, 'Pen13')\n",
    "Axe = Product(10, \"Axe13\")\n",
    "Potato_UK = Product(11, \"Yellow_Potato13\")\n",
    "Items = [Potato, Sauce, Carrot, Soup, Knife, Laptop, Fork, Sil_fork, Pen, Axe, Potato_UK]"
   ]
  },
  {
   "cell_type": "code",
   "execution_count": 27,
   "metadata": {},
   "outputs": [],
   "source": [
    "for shop in Shops:\n",
    "    for item_ in Items:\n",
    "        shop.add(item_, random.randint(1, 100), random.randint(300, 1000))"
   ]
  },
  {
   "cell_type": "code",
   "execution_count": 12,
   "metadata": {
    "scrolled": true
   },
   "outputs": [
    {
     "name": "stdout",
     "output_type": "stream",
     "text": [
      "Axe\n"
     ]
    },
    {
     "data": {
      "text/plain": [
       "[15, 1000]"
      ]
     },
     "execution_count": 12,
     "metadata": {},
     "output_type": "execute_result"
    }
   ],
   "source": [
    "AJ.items[eval(input())]"
   ]
  },
  {
   "cell_type": "code",
   "execution_count": null,
   "metadata": {},
   "outputs": [],
   "source": [
    "min_Shop()"
   ]
  }
 ],
 "metadata": {
  "kernelspec": {
   "display_name": "Python 3",
   "language": "python",
   "name": "python3"
  },
  "language_info": {
   "codemirror_mode": {
    "name": "ipython",
    "version": 3
   },
   "file_extension": ".py",
   "mimetype": "text/x-python",
   "name": "python",
   "nbconvert_exporter": "python",
   "pygments_lexer": "ipython3",
   "version": "3.8.5"
  }
 },
 "nbformat": 4,
 "nbformat_minor": 4
}
